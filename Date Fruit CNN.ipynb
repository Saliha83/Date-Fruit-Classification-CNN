{
 "cells": [
  {
   "cell_type": "markdown",
   "id": "d751157c-8291-459b-a99c-0f415eaaaa57",
   "metadata": {},
   "source": [
    "### DATE FRUIT CLASSIFICATION / CNN"
   ]
  },
  {
   "cell_type": "markdown",
   "id": "adcc4dfe-5eb0-49d7-b0d9-5f88e79bb54d",
   "metadata": {},
   "source": [
    "<img src='https://tesfanews.com/wp-content/uploads/2018/01/date-palm.jpg'>\n",
    "<a href='https://www.kaggle.com/datasets/wadhasnalhamdan/date-fruit-image-dataset-in-controlled-environment' target=_blank>Data dosyasini burada bulabilirsiniz</a>"
   ]
  },
  {
   "cell_type": "markdown",
   "id": "16c2e407-1ff2-4ffc-b8a6-9bf4f0be7f02",
   "metadata": {},
   "source": [
    "* Bu projeyle 9 çeşit hurma görüntülerini Deep Learninle sınıflandıracağım bir model inşa ettim."
   ]
  },
  {
   "cell_type": "code",
   "execution_count": 14,
   "id": "68f3cc1e-ea38-4c63-9b2c-982dd3a2f84d",
   "metadata": {},
   "outputs": [],
   "source": [
    "import cv2\n",
    "import pandas as pd\n",
    "import numpy as np\n",
    "import matplotlib.pyplot as plt\n",
    "from sklearn.model_selection import train_test_split\n",
    "import os"
   ]
  },
  {
   "cell_type": "code",
   "execution_count": 3,
   "id": "907e6dbe-5515-49c4-b49e-b648326267d7",
   "metadata": {},
   "outputs": [],
   "source": [
    "labels=['Ajwa','Galaxy','Medjool','Meneifi','Nabtat Ali','Rutab','Shaishe','Sokari','Sugaey'] #resimleri etiketledim\n",
    "img_path='Date_Fruit/'#dosya yolunu belirttim"
   ]
  },
  {
   "cell_type": "code",
   "execution_count": null,
   "id": "f2bc1a86-9e10-40bb-a035-69c541e3c7a8",
   "metadata": {},
   "outputs": [],
   "source": [
    "img_list=[]                                            # img list ve etiketlerin olduğu bir fonksiyon yazıyoruz\n",
    "label_list=[]\n",
    "for label in labels:                                    #date klasörüne gider\n",
    "    for img_file in os.listdir(img_path+label):         #listdir ile img klasörüne gidip alt dosyaları bulur\n",
    "        img_list.append(img_path+label+'/'+img_file)    #data dosyasındaki resimleri img dosyasına ekler\n",
    "        label_list.append(label)"
   ]
  },
  {
   "cell_type": "code",
   "execution_count": 5,
   "id": "b141fcf1-d44b-4af6-9373-b47b3783c143",
   "metadata": {},
   "outputs": [],
   "source": [
    "df=pd.DataFrame({'img':img_list,'label':label_list})"
   ]
  },
  {
   "cell_type": "code",
   "execution_count": 6,
   "id": "0595e175-d702-4c6b-ba8a-b05b233926e9",
   "metadata": {},
   "outputs": [
    {
     "data": {
      "text/html": [
       "<div>\n",
       "<style scoped>\n",
       "    .dataframe tbody tr th:only-of-type {\n",
       "        vertical-align: middle;\n",
       "    }\n",
       "\n",
       "    .dataframe tbody tr th {\n",
       "        vertical-align: top;\n",
       "    }\n",
       "\n",
       "    .dataframe thead th {\n",
       "        text-align: right;\n",
       "    }\n",
       "</style>\n",
       "<table border=\"1\" class=\"dataframe\">\n",
       "  <thead>\n",
       "    <tr style=\"text-align: right;\">\n",
       "      <th></th>\n",
       "      <th>img</th>\n",
       "      <th>label</th>\n",
       "    </tr>\n",
       "  </thead>\n",
       "  <tbody>\n",
       "    <tr>\n",
       "      <th>0</th>\n",
       "      <td>Date_Fruit/Ajwa/Ajwa Date (1).JPG</td>\n",
       "      <td>Ajwa</td>\n",
       "    </tr>\n",
       "    <tr>\n",
       "      <th>1</th>\n",
       "      <td>Date_Fruit/Ajwa/Ajwa Date (10).JPG</td>\n",
       "      <td>Ajwa</td>\n",
       "    </tr>\n",
       "    <tr>\n",
       "      <th>2</th>\n",
       "      <td>Date_Fruit/Ajwa/Ajwa Date (100).JPG</td>\n",
       "      <td>Ajwa</td>\n",
       "    </tr>\n",
       "    <tr>\n",
       "      <th>3</th>\n",
       "      <td>Date_Fruit/Ajwa/Ajwa Date (101).JPG</td>\n",
       "      <td>Ajwa</td>\n",
       "    </tr>\n",
       "    <tr>\n",
       "      <th>4</th>\n",
       "      <td>Date_Fruit/Ajwa/Ajwa Date (102).JPG</td>\n",
       "      <td>Ajwa</td>\n",
       "    </tr>\n",
       "  </tbody>\n",
       "</table>\n",
       "</div>"
      ],
      "text/plain": [
       "                                   img label\n",
       "0    Date_Fruit/Ajwa/Ajwa Date (1).JPG  Ajwa\n",
       "1   Date_Fruit/Ajwa/Ajwa Date (10).JPG  Ajwa\n",
       "2  Date_Fruit/Ajwa/Ajwa Date (100).JPG  Ajwa\n",
       "3  Date_Fruit/Ajwa/Ajwa Date (101).JPG  Ajwa\n",
       "4  Date_Fruit/Ajwa/Ajwa Date (102).JPG  Ajwa"
      ]
     },
     "execution_count": 6,
     "metadata": {},
     "output_type": "execute_result"
    }
   ],
   "source": [
    "df.head()"
   ]
  },
  {
   "cell_type": "code",
   "execution_count": 20,
   "id": "bec132e4-8d6b-4970-8056-660b0620ee78",
   "metadata": {},
   "outputs": [],
   "source": [
    "d={'Ajwa':0, 'Galaxy':1, 'Medjool':2, 'Meneifi':3, 'Nabtat Ali':4, 'Rutab':5, 'Shaishe':6, 'Sokari':7, 'Sugaey':8}\n",
    "#sözlük oluşturup hurma adlarına sayısal değerler atadı."
   ]
  },
  {
   "cell_type": "code",
   "execution_count": 21,
   "id": "b85c263f-1949-4c48-9e0e-50d0844ba67e",
   "metadata": {},
   "outputs": [],
   "source": [
    "df['class']=df['label'].map(d)\n",
    "#dataya class diye bir sutun ekledi"
   ]
  },
  {
   "cell_type": "code",
   "execution_count": 22,
   "id": "63197647-2eca-4342-9171-cd38157ed764",
   "metadata": {},
   "outputs": [
    {
     "data": {
      "text/html": [
       "<div>\n",
       "<style scoped>\n",
       "    .dataframe tbody tr th:only-of-type {\n",
       "        vertical-align: middle;\n",
       "    }\n",
       "\n",
       "    .dataframe tbody tr th {\n",
       "        vertical-align: top;\n",
       "    }\n",
       "\n",
       "    .dataframe thead th {\n",
       "        text-align: right;\n",
       "    }\n",
       "</style>\n",
       "<table border=\"1\" class=\"dataframe\">\n",
       "  <thead>\n",
       "    <tr style=\"text-align: right;\">\n",
       "      <th></th>\n",
       "      <th>img</th>\n",
       "      <th>label</th>\n",
       "      <th>class</th>\n",
       "    </tr>\n",
       "  </thead>\n",
       "  <tbody>\n",
       "    <tr>\n",
       "      <th>0</th>\n",
       "      <td>Date_Fruit/Ajwa/Ajwa Date (1).JPG</td>\n",
       "      <td>Ajwa</td>\n",
       "      <td>0</td>\n",
       "    </tr>\n",
       "    <tr>\n",
       "      <th>1</th>\n",
       "      <td>Date_Fruit/Ajwa/Ajwa Date (10).JPG</td>\n",
       "      <td>Ajwa</td>\n",
       "      <td>0</td>\n",
       "    </tr>\n",
       "    <tr>\n",
       "      <th>2</th>\n",
       "      <td>Date_Fruit/Ajwa/Ajwa Date (100).JPG</td>\n",
       "      <td>Ajwa</td>\n",
       "      <td>0</td>\n",
       "    </tr>\n",
       "    <tr>\n",
       "      <th>3</th>\n",
       "      <td>Date_Fruit/Ajwa/Ajwa Date (101).JPG</td>\n",
       "      <td>Ajwa</td>\n",
       "      <td>0</td>\n",
       "    </tr>\n",
       "    <tr>\n",
       "      <th>4</th>\n",
       "      <td>Date_Fruit/Ajwa/Ajwa Date (102).JPG</td>\n",
       "      <td>Ajwa</td>\n",
       "      <td>0</td>\n",
       "    </tr>\n",
       "  </tbody>\n",
       "</table>\n",
       "</div>"
      ],
      "text/plain": [
       "                                   img label  class\n",
       "0    Date_Fruit/Ajwa/Ajwa Date (1).JPG  Ajwa      0\n",
       "1   Date_Fruit/Ajwa/Ajwa Date (10).JPG  Ajwa      0\n",
       "2  Date_Fruit/Ajwa/Ajwa Date (100).JPG  Ajwa      0\n",
       "3  Date_Fruit/Ajwa/Ajwa Date (101).JPG  Ajwa      0\n",
       "4  Date_Fruit/Ajwa/Ajwa Date (102).JPG  Ajwa      0"
      ]
     },
     "execution_count": 22,
     "metadata": {},
     "output_type": "execute_result"
    }
   ],
   "source": [
    "df.head()"
   ]
  },
  {
   "cell_type": "code",
   "execution_count": 23,
   "id": "557482a6-1896-4557-ad28-b6493c3f8224",
   "metadata": {},
   "outputs": [],
   "source": [
    "x=[]\n",
    "for img in df['img']:  #pil ile de okuyabilirsin\n",
    "    img=cv2.imread(str(img))\n",
    "    img=cv2.resize(img,(170,170)) #boyutunu 170 x 170 pixel yaptik\n",
    "    img=img/255.0 #normalize ettik\n",
    "    x.append(img)"
   ]
  },
  {
   "cell_type": "code",
   "execution_count": 24,
   "id": "e01f9dca-02be-4f9a-93ad-a8581bc4514c",
   "metadata": {},
   "outputs": [],
   "source": [
    "x=np.array(x)"
   ]
  },
  {
   "cell_type": "code",
   "execution_count": 25,
   "id": "21db105e-daed-4eb9-add0-4fb1465f44ca",
   "metadata": {},
   "outputs": [],
   "source": [
    "y=df['class']"
   ]
  },
  {
   "cell_type": "code",
   "execution_count": 26,
   "id": "afda571b-4ebf-48c2-b20f-83d20cacf546",
   "metadata": {},
   "outputs": [],
   "source": [
    "x_train,x_test,y_train,y_test=train_test_split(x,y,test_size=.20,random_state=42)"
   ]
  },
  {
   "cell_type": "code",
   "execution_count": 27,
   "id": "73cc0707-d5a9-4416-b4ac-8e174946f109",
   "metadata": {},
   "outputs": [],
   "source": [
    "#pip install tensorflow"
   ]
  },
  {
   "cell_type": "code",
   "execution_count": 28,
   "id": "90e53922-1f02-4f90-a51a-bcf1d732f772",
   "metadata": {},
   "outputs": [],
   "source": [
    "from keras.models import Sequential\n",
    "from keras.layers import Conv2D, Dense, Flatten, Input, MaxPooling2D, Dropout,BatchNormalization, Reshape"
   ]
  },
  {
   "cell_type": "markdown",
   "id": "20cf48f8-4e09-4ccd-a5d6-5df762d3c2e1",
   "metadata": {},
   "source": [
    "### CNN"
   ]
  },
  {
   "cell_type": "code",
   "execution_count": 29,
   "id": "c0b342a8-1404-49c6-b4d4-03c3d978dbae",
   "metadata": {},
   "outputs": [],
   "source": [
    "model=Sequential()\n",
    "model.add(Input(shape=(170,170,3))) #3 ekledik çünkü 3 tane rgb renk modeli vardı yani renkli olacak\n",
    "model.add(Conv2D(32,kernel_size=(3,3),activation='relu'))\n",
    "model.add(MaxPooling2D(pool_size=(2,2)))\n",
    "model.add(Conv2D(64,kernel_size=(3,3),activation='relu')) #64 noron\n",
    "model.add(MaxPooling2D(pool_size=(2,2)))\n",
    "model.add(Flatten())\n",
    "model.add(Dense(128))\n",
    "model.add(Dense(9, activation='softmax')) #  9 fakli cevap classification yapacağız çünkü 9 çeşit hurma var\n",
    "model.compile(optimizer='adam',loss='sparse_categorical_crossentropy',metrics=['accuracy'])"
   ]
  },
  {
   "cell_type": "code",
   "execution_count": 30,
   "id": "61d62fae-17e2-4564-8182-d35050042f80",
   "metadata": {},
   "outputs": [
    {
     "name": "stdout",
     "output_type": "stream",
     "text": [
      "Epoch 1/20\n",
      "\u001b[1m42/42\u001b[0m \u001b[32m━━━━━━━━━━━━━━━━━━━━\u001b[0m\u001b[37m\u001b[0m \u001b[1m11s\u001b[0m 226ms/step - accuracy: 0.2443 - loss: 9.4928 - val_accuracy: 0.5000 - val_loss: 1.2065\n",
      "Epoch 2/20\n",
      "\u001b[1m42/42\u001b[0m \u001b[32m━━━━━━━━━━━━━━━━━━━━\u001b[0m\u001b[37m\u001b[0m \u001b[1m9s\u001b[0m 213ms/step - accuracy: 0.6851 - loss: 0.9406 - val_accuracy: 0.8313 - val_loss: 0.5135\n",
      "Epoch 3/20\n",
      "\u001b[1m42/42\u001b[0m \u001b[32m━━━━━━━━━━━━━━━━━━━━\u001b[0m\u001b[37m\u001b[0m \u001b[1m9s\u001b[0m 211ms/step - accuracy: 0.8578 - loss: 0.4271 - val_accuracy: 0.9127 - val_loss: 0.3648\n",
      "Epoch 4/20\n",
      "\u001b[1m42/42\u001b[0m \u001b[32m━━━━━━━━━━━━━━━━━━━━\u001b[0m\u001b[37m\u001b[0m \u001b[1m9s\u001b[0m 212ms/step - accuracy: 0.9021 - loss: 0.3059 - val_accuracy: 0.8645 - val_loss: 0.4241\n",
      "Epoch 5/20\n",
      "\u001b[1m42/42\u001b[0m \u001b[32m━━━━━━━━━━━━━━━━━━━━\u001b[0m\u001b[37m\u001b[0m \u001b[1m9s\u001b[0m 214ms/step - accuracy: 0.9425 - loss: 0.2035 - val_accuracy: 0.8464 - val_loss: 0.4567\n",
      "Epoch 6/20\n",
      "\u001b[1m42/42\u001b[0m \u001b[32m━━━━━━━━━━━━━━━━━━━━\u001b[0m\u001b[37m\u001b[0m \u001b[1m9s\u001b[0m 213ms/step - accuracy: 0.9458 - loss: 0.1769 - val_accuracy: 0.8795 - val_loss: 0.4298\n",
      "Epoch 7/20\n",
      "\u001b[1m42/42\u001b[0m \u001b[32m━━━━━━━━━━━━━━━━━━━━\u001b[0m\u001b[37m\u001b[0m \u001b[1m9s\u001b[0m 214ms/step - accuracy: 0.9673 - loss: 0.1193 - val_accuracy: 0.8554 - val_loss: 0.5016\n",
      "Epoch 8/20\n",
      "\u001b[1m42/42\u001b[0m \u001b[32m━━━━━━━━━━━━━━━━━━━━\u001b[0m\u001b[37m\u001b[0m \u001b[1m9s\u001b[0m 214ms/step - accuracy: 0.9351 - loss: 0.1754 - val_accuracy: 0.8946 - val_loss: 0.3737\n",
      "Epoch 9/20\n",
      "\u001b[1m42/42\u001b[0m \u001b[32m━━━━━━━━━━━━━━━━━━━━\u001b[0m\u001b[37m\u001b[0m \u001b[1m9s\u001b[0m 217ms/step - accuracy: 0.9849 - loss: 0.0715 - val_accuracy: 0.9036 - val_loss: 0.3878\n",
      "Epoch 10/20\n",
      "\u001b[1m42/42\u001b[0m \u001b[32m━━━━━━━━━━━━━━━━━━━━\u001b[0m\u001b[37m\u001b[0m \u001b[1m9s\u001b[0m 217ms/step - accuracy: 0.9892 - loss: 0.0514 - val_accuracy: 0.8735 - val_loss: 0.5472\n",
      "Epoch 11/20\n",
      "\u001b[1m42/42\u001b[0m \u001b[32m━━━━━━━━━━━━━━━━━━━━\u001b[0m\u001b[37m\u001b[0m \u001b[1m9s\u001b[0m 218ms/step - accuracy: 0.9843 - loss: 0.0756 - val_accuracy: 0.8916 - val_loss: 0.3970\n",
      "Epoch 12/20\n",
      "\u001b[1m42/42\u001b[0m \u001b[32m━━━━━━━━━━━━━━━━━━━━\u001b[0m\u001b[37m\u001b[0m \u001b[1m9s\u001b[0m 220ms/step - accuracy: 0.9722 - loss: 0.0699 - val_accuracy: 0.8464 - val_loss: 0.5292\n",
      "Epoch 13/20\n",
      "\u001b[1m42/42\u001b[0m \u001b[32m━━━━━━━━━━━━━━━━━━━━\u001b[0m\u001b[37m\u001b[0m \u001b[1m9s\u001b[0m 224ms/step - accuracy: 0.9672 - loss: 0.0976 - val_accuracy: 0.9096 - val_loss: 0.3768\n",
      "Epoch 14/20\n",
      "\u001b[1m42/42\u001b[0m \u001b[32m━━━━━━━━━━━━━━━━━━━━\u001b[0m\u001b[37m\u001b[0m \u001b[1m9s\u001b[0m 217ms/step - accuracy: 1.0000 - loss: 0.0107 - val_accuracy: 0.9127 - val_loss: 0.4001\n",
      "Epoch 15/20\n",
      "\u001b[1m42/42\u001b[0m \u001b[32m━━━━━━━━━━━━━━━━━━━━\u001b[0m\u001b[37m\u001b[0m \u001b[1m9s\u001b[0m 217ms/step - accuracy: 1.0000 - loss: 0.0072 - val_accuracy: 0.9187 - val_loss: 0.4054\n",
      "Epoch 16/20\n",
      "\u001b[1m42/42\u001b[0m \u001b[32m━━━━━━━━━━━━━━━━━━━━\u001b[0m\u001b[37m\u001b[0m \u001b[1m9s\u001b[0m 218ms/step - accuracy: 1.0000 - loss: 0.0053 - val_accuracy: 0.9217 - val_loss: 0.4232\n",
      "Epoch 17/20\n",
      "\u001b[1m42/42\u001b[0m \u001b[32m━━━━━━━━━━━━━━━━━━━━\u001b[0m\u001b[37m\u001b[0m \u001b[1m9s\u001b[0m 218ms/step - accuracy: 1.0000 - loss: 0.0048 - val_accuracy: 0.9127 - val_loss: 0.4336\n",
      "Epoch 18/20\n",
      "\u001b[1m42/42\u001b[0m \u001b[32m━━━━━━━━━━━━━━━━━━━━\u001b[0m\u001b[37m\u001b[0m \u001b[1m9s\u001b[0m 218ms/step - accuracy: 1.0000 - loss: 0.0053 - val_accuracy: 0.9096 - val_loss: 0.4447\n",
      "Epoch 19/20\n",
      "\u001b[1m42/42\u001b[0m \u001b[32m━━━━━━━━━━━━━━━━━━━━\u001b[0m\u001b[37m\u001b[0m \u001b[1m9s\u001b[0m 217ms/step - accuracy: 1.0000 - loss: 0.0032 - val_accuracy: 0.9157 - val_loss: 0.4734\n",
      "Epoch 20/20\n",
      "\u001b[1m42/42\u001b[0m \u001b[32m━━━━━━━━━━━━━━━━━━━━\u001b[0m\u001b[37m\u001b[0m \u001b[1m9s\u001b[0m 219ms/step - accuracy: 1.0000 - loss: 0.0024 - val_accuracy: 0.9247 - val_loss: 0.4413\n"
     ]
    }
   ],
   "source": [
    "history=model.fit(x_train,y_train,validation_data=(x_test,y_test), epochs=20, verbose=1)"
   ]
  },
  {
   "cell_type": "code",
   "execution_count": 31,
   "id": "93bd0ecf-05f3-473d-a1de-326cf72646ec",
   "metadata": {},
   "outputs": [
    {
     "name": "stderr",
     "output_type": "stream",
     "text": [
      "WARNING:absl:You are saving your model as an HDF5 file via `model.save()` or `keras.saving.save_model(model)`. This file format is considered legacy. We recommend using instead the native Keras format, e.g. `model.save('my_model.keras')` or `keras.saving.save_model(model, 'my_model.keras')`. \n"
     ]
    }
   ],
   "source": [
    "model.save('datefruit_cnn_model.h5')"
   ]
  },
  {
   "cell_type": "code",
   "execution_count": null,
   "id": "8fc1a7da-dd39-4a8a-b9a3-ec3c19445453",
   "metadata": {},
   "outputs": [],
   "source": [
    "#0.9127 val_accuracy, 20 epoch ile model iyi bir başarı gösterdi."
   ]
  }
 ],
 "metadata": {
  "kernelspec": {
   "display_name": "Python 3 (ipykernel)",
   "language": "python",
   "name": "python3"
  },
  "language_info": {
   "codemirror_mode": {
    "name": "ipython",
    "version": 3
   },
   "file_extension": ".py",
   "mimetype": "text/x-python",
   "name": "python",
   "nbconvert_exporter": "python",
   "pygments_lexer": "ipython3",
   "version": "3.11.7"
  }
 },
 "nbformat": 4,
 "nbformat_minor": 5
}
